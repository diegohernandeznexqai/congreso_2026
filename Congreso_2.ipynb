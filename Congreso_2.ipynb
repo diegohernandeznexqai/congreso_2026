{
 "cells": [
  {
   "cell_type": "markdown",
   "id": "aac776cc",
   "metadata": {},
   "source": [
    "Resultados 2014"
   ]
  },
  {
   "cell_type": "code",
   "execution_count": 90,
   "id": "d0c8718c",
   "metadata": {},
   "outputs": [
    {
     "name": "stdout",
     "output_type": "stream",
     "text": [
      "Index(['id_electoral', 'ano', 'tipo_eleccion', 'fecha_eleccion', 'coddpto',\n",
      "       'departamento', 'codmpio', 'municipio', 'circunscripcion',\n",
      "       'codigo_partido', 'codigo_lista', 'primer_apellido', 'segundo_apellido',\n",
      "       'nombres', 'votos', 'curules'],\n",
      "      dtype='object')\n"
     ]
    }
   ],
   "source": [
    "import pandas as pd \n",
    "import os\n",
    "os.chdir(r\"C:\\Users\\Diego\\Desktop\\Proyectos_python\\Congreso_2026\")\n",
    "Congreso_2014=pd.read_excel(\"2014_elecciones.xlsx\", sheet_name=None)\n",
    "print(Congreso_2014['2014_camara dta'].columns)"
   ]
  },
  {
   "cell_type": "markdown",
   "id": "2fd40bd9",
   "metadata": {},
   "source": [
    "Resultados 2010"
   ]
  },
  {
   "cell_type": "code",
   "execution_count": 70,
   "id": "7c366302",
   "metadata": {},
   "outputs": [
    {
     "name": "stdout",
     "output_type": "stream",
     "text": [
      "Index(['id_electoral', 'ano', 'tipo_eleccion', 'fecha_eleccion', 'coddpto',\n",
      "       'departamento', 'codmpio', 'municipio', 'circunscripcion',\n",
      "       'codigo_partido', 'codigo_lista', 'primer_apellido', 'segundo_apellido',\n",
      "       'nombres', 'votos', 'curules'],\n",
      "      dtype='object')\n"
     ]
    }
   ],
   "source": [
    "Congreso_2010=pd.read_excel(\"2010_camara.xlsx\", sheet_name=None)\n",
    "print(Congreso_2010['2010_camara dta'].columns)"
   ]
  },
  {
   "cell_type": "markdown",
   "id": "421af71e",
   "metadata": {},
   "source": [
    "Resultados 2006"
   ]
  },
  {
   "cell_type": "code",
   "execution_count": 77,
   "id": "fde84818",
   "metadata": {},
   "outputs": [
    {
     "name": "stdout",
     "output_type": "stream",
     "text": [
      "Index(['id_electoral', 'ano', 'tipo_eleccion', 'fecha_eleccion', 'coddpto',\n",
      "       'departamento', 'codmpio', 'municipio', 'circunscripcion',\n",
      "       'codigo_partido', 'codigo_lista', 'primer_apellido', 'segundo_apellido',\n",
      "       'nombres', 'votos', 'curules'],\n",
      "      dtype='object')\n"
     ]
    }
   ],
   "source": [
    "Congreso_2006=pd.read_excel(\"2006_camara.xlsx\", sheet_name=None)\n",
    "print(Congreso_2006['2006_camara dta'].columns)"
   ]
  },
  {
   "cell_type": "markdown",
   "id": "270179a9",
   "metadata": {},
   "source": [
    "Resultados 2002"
   ]
  },
  {
   "cell_type": "code",
   "execution_count": 85,
   "id": "7f81f8fe",
   "metadata": {},
   "outputs": [
    {
     "name": "stdout",
     "output_type": "stream",
     "text": [
      "Index(['id_electoral', 'ano', 'tipo_eleccion', 'fecha_eleccion', 'coddpto',\n",
      "       'departamento', 'codmpio', 'municipio', 'circunscripcion',\n",
      "       'codigo_partido', 'codigo_lista', 'en_lista', 'primer_apellido',\n",
      "       'segundo_apellido', 'nombres', 'votos', 'curules'],\n",
      "      dtype='object')\n"
     ]
    }
   ],
   "source": [
    "Congreso_2002=pd.read_excel(\"2002_camara.xlsx\", sheet_name=None)\n",
    "print(Congreso_2002['2002_camara dta'].columns)"
   ]
  },
  {
   "cell_type": "markdown",
   "id": "353fb9f7",
   "metadata": {},
   "source": [
    "REsultados 2018"
   ]
  },
  {
   "cell_type": "code",
   "execution_count": 92,
   "id": "8dd1461f",
   "metadata": {},
   "outputs": [
    {
     "name": "stdout",
     "output_type": "stream",
     "text": [
      "Index(['id_electoral', 'ano', 'tipo_eleccion', 'fecha_eleccion', 'coddpto',\n",
      "       'departamento', 'codmpio', 'municipio', 'circunscripcion',\n",
      "       'codigo_partido', 'codigo_lista', 'primer_apellido', 'segundo_apellido',\n",
      "       'nombres', 'votos', 'curules'],\n",
      "      dtype='object')\n"
     ]
    }
   ],
   "source": [
    "Congreso_2018=pd.read_excel(\"2018_camara.xlsx\", sheet_name=None)\n",
    "print(Congreso_2018['2018_camara dta'].columns)"
   ]
  },
  {
   "cell_type": "markdown",
   "id": "77a12014",
   "metadata": {},
   "source": [
    "Calculo Votos en Blaco y Nulos 2014"
   ]
  },
  {
   "cell_type": "code",
   "execution_count": 71,
   "id": "9de221cb",
   "metadata": {},
   "outputs": [
    {
     "name": "stdout",
     "output_type": "stream",
     "text": [
      "60297\n"
     ]
    }
   ],
   "source": [
    "Congreso_2014_Cund=Congreso_2014['2014_camara dta'][Congreso_2014['2014_camara dta']['departamento']=='CUNDINAMARCA']\n",
    "Votos_Blancos=Congreso_2014_Cund[Congreso_2014_Cund['codigo_lista']==999]\n",
    "print(Votos_Blancos['votos'].sum())"
   ]
  },
  {
   "cell_type": "markdown",
   "id": "35a1f2f6",
   "metadata": {},
   "source": [
    "Claculo Votos en Blanco y Nulos 2010"
   ]
  },
  {
   "cell_type": "code",
   "execution_count": 72,
   "id": "a9d097c9",
   "metadata": {},
   "outputs": [
    {
     "name": "stdout",
     "output_type": "stream",
     "text": [
      "22476\n"
     ]
    }
   ],
   "source": [
    "Congreso_2010_Cund=Congreso_2010['2010_camara dta'][Congreso_2010['2010_camara dta']['departamento']=='CUNDINAMARCA']\n",
    "Votos_Blancos=Congreso_2010_Cund[Congreso_2010_Cund['codigo_lista']==999]\n",
    "print(Votos_Blancos['votos'].sum())"
   ]
  },
  {
   "cell_type": "markdown",
   "id": "a7c2ef80",
   "metadata": {},
   "source": [
    "Calculo Votos en Blaco y Nulos 2006"
   ]
  },
  {
   "cell_type": "code",
   "execution_count": 82,
   "id": "a6e6bc5d",
   "metadata": {},
   "outputs": [
    {
     "name": "stdout",
     "output_type": "stream",
     "text": [
      "20554\n"
     ]
    }
   ],
   "source": [
    "Congreso_2006_Cund=Congreso_2006['2006_camara dta'][Congreso_2006['2006_camara dta']['departamento']=='CUNDINAMARCA']\n",
    "Votos_Blancos=Congreso_2006_Cund[Congreso_2006_Cund['codigo_lista']==999]\n",
    "print(Votos_Blancos['votos'].sum())"
   ]
  },
  {
   "cell_type": "markdown",
   "id": "b52883b3",
   "metadata": {},
   "source": [
    "Calculo Votos Blacos y Nulos 2002"
   ]
  },
  {
   "cell_type": "code",
   "execution_count": 88,
   "id": "a12eca7a",
   "metadata": {},
   "outputs": [
    {
     "name": "stdout",
     "output_type": "stream",
     "text": [
      "40556\n"
     ]
    }
   ],
   "source": [
    "Congreso_2002_Cund=Congreso_2002['2002_camara dta'][Congreso_2002['2002_camara dta']['departamento']=='CUNDINAMARCA']\n",
    "Votos_Blancos=Congreso_2002_Cund[Congreso_2002_Cund['codigo_lista']==999]\n",
    "print(Votos_Blancos['votos'].sum())"
   ]
  },
  {
   "cell_type": "markdown",
   "id": "ef6974ca",
   "metadata": {},
   "source": [
    "Calculo de votos blancos y Nulos 2018"
   ]
  },
  {
   "cell_type": "code",
   "execution_count": 98,
   "id": "9ac4c9ab",
   "metadata": {},
   "outputs": [
    {
     "name": "stdout",
     "output_type": "stream",
     "text": [
      "65324\n"
     ]
    }
   ],
   "source": [
    "Congreso_2018_Cund=Congreso_2018['2018_camara dta'][Congreso_2018['2018_camara dta']['departamento']=='CUNDINAMARCA']\n",
    "Votos_Blancos=Congreso_2018_Cund[Congreso_2018_Cund['codigo_lista']==999]\n",
    "print(Votos_Blancos['votos'].sum())"
   ]
  },
  {
   "cell_type": "code",
   "execution_count": 26,
   "id": "5d41a381",
   "metadata": {},
   "outputs": [
    {
     "name": "stdout",
     "output_type": "stream",
     "text": [
      "80649\n"
     ]
    }
   ],
   "source": [
    "Partido_liberal=Congreso_2014_Cund[Congreso_2014_Cund['codigo_partido']==18480001]\n",
    "print(Partido_liberal['votos'].sum())"
   ]
  },
  {
   "cell_type": "code",
   "execution_count": 44,
   "id": "f1cb230f",
   "metadata": {},
   "outputs": [
    {
     "name": "stdout",
     "output_type": "stream",
     "text": [
      "99395\n",
      "PARTIDO CONSERVADOR COLOMBIANO\n"
     ]
    }
   ],
   "source": [
    "Partido_conservador=Congreso_2014_Cund[Congreso_2014_Cund['codigo_partido']==18490002]\n",
    "print(Partido_conservador['votos'].sum())\n",
    "print(Partido_conservador['nombres'].iloc[0])"
   ]
  },
  {
   "cell_type": "markdown",
   "id": "bf99f42f",
   "metadata": {},
   "source": [
    "Votos por partido 2014"
   ]
  },
  {
   "cell_type": "code",
   "execution_count": 136,
   "id": "5e45620f",
   "metadata": {},
   "outputs": [
    {
     "name": "stdout",
     "output_type": "stream",
     "text": [
      "⚠️ No se encontraron filas para el partido nan\n",
      "                                                       Nombre  Votos_2014\n",
      "0                                                                        \n",
      "20000036.0                                    MOVIMIENTO MIRA       20930\n",
      "20140025.0                 FUNDACION EBANO DE COLOMBIA FUNECO         147\n",
      "19910006.0               PARTIDO ALIANZA SOCIAL INDEPENDIENTE        3826\n",
      "20140036.0                                          VIA NUEVA         103\n",
      "20140023.0                FUNDACION AFROCOLOMBIANOS EN ACCION          44\n",
      "20100007.0                                         AFROVIDES          113\n",
      "20140031.0        MOV UNIDAD INDIGENA Y POPULAR POR COL MUIPC         182\n",
      "20100047.0  FUND PARA EL DES LA SOLIDARI Y LA INTEG DE LAS...          31\n",
      "20140003.0  ASOC DE AUTORIDADES TRAD Y CABILDOS INDIGENAS ...         123\n",
      "20140018.0                        CORPORACION PODER CIUDADANO         128\n",
      "20140035.0                                        SI SE PUEDE          95\n",
      "20100040.0                       FUNDACION INTENSIDAD FUNDAIN          54\n",
      "20090002.0                              PARTIDO ALIANZA VERDE       15520\n",
      "19850001.0                       PARTIDO UNION PATRIOTICA  UP        5313\n",
      "18490002.0                     PARTIDO CONSERVADOR COLOMBIANO       99395\n",
      "20140010.0                      RENOVACION ETNICA DE COLOMBIA         247\n",
      "20140026.0                    FUNDACION ESPERANZA AFRO ESAFRO         146\n",
      "20140012.0                                             AIMAC           72\n",
      "20140014.0        ASOC REGIONAL DE AFROCOL LA MINGA AFROMINGA         120\n",
      "18480001.0                         PARTIDO LIBERAL COLOMBIANO       80649\n",
      "20130001.0       CENTRO DEMOCRATICO MANO FIRME CORAZON GRANDE       75227\n",
      "20140020.0         EAT BOTICA COMUNITARIA DEL VALLE DEL CAUCA          53\n",
      "20100042.0                                FUNDACION FORFUTURO          85\n",
      "20050002.0                                    PARTIDO DE LA U      113164\n",
      "20030001.0                             PARTIDO CAMBIO RADICAL      117731\n",
      "20050001.0                       POLO DEMOCRATICO ALTERNATIVO       14749\n",
      "20140029.0                                           HAMILSON          41\n",
      "20140015.0                                         ASOCONEGUA         112\n",
      "20110001.0            MOVIMIENTO DE INCLUSION Y OPORTUNIDADES         120\n",
      "20060012.0                                             ASOPRA         205\n",
      "20130002.0     MOVIMIENTO ALTERNATIVO INDIGENA Y SOCIAL  MAIS         449\n",
      "20140028.0                                        FUNPROESAT           45\n",
      "20110056.0                                              UNETE         117\n",
      "20100062.0                                 WILLINGTON ALFONSO         104\n",
      "19910001.0                                    GERMAN BERNARDO         432\n",
      "20140002.0  ASOCIACION DE AUTORIDADES TRADICIONALES INDIGE...          63\n",
      "20140022.0  FUND PARA EL DESARROLLO  DE LA CUEN DEL PACIFI...          41\n",
      "20020030.0        ORG ETNICA COMUNITARIA AFRO COLOMBIANA OECA          81\n",
      "20140013.0  ASOC DE AFRODESCENDIENTES DEL MAGD MEDIO AFRODMAM          26\n",
      "20140032.0  MOVIMIENTO AFROCOLOMBIANO SOCIOAMBIENTALISTA M...          64\n",
      "20100028.0                            CORPORACION AFROETNICOS          36\n",
      "20100032.0                     CORP NELSON MANDELA CORMANDELA          65\n",
      "20140017.0  CONS COMUNI DE LOS CORREGI DE SAN ANTONIO Y EL...          26\n",
      "20140016.0                                       ASODEPORTES           85\n",
      "20140024.0        FUNDACION CULTURAL COSTA CARIBE FUNCULCOSTA          49\n",
      "20140021.0  EMBERA CHAMI DEL RESGUARDO INDIGENA  DACHI AGO...          50\n",
      "20100045.0  FUND PARA EL DES INTEG DEL AFRODESCENDIENTE FU...          32\n",
      "20140019.0                     CORPORACION VIDES Y SUS NICHES          40\n"
     ]
    }
   ],
   "source": [
    "partidos=Congreso_2014_Cund['codigo_partido'].unique()\n",
    "#Total_Partidos={}\n",
    "Total_Partidos=[]\n",
    "for i in partidos:\n",
    "    x=Congreso_2014_Cund[Congreso_2014_Cund['codigo_partido']==i]\n",
    "    if not x.empty:  # solo si encontró filas\n",
    "        Total_Partidos.append([i, x['nombres'].iloc[0], x['votos'].sum()])\n",
    "    else:\n",
    "        print(f\"⚠️ No se encontraron filas para el partido {i}\")\n",
    "#print(Total_Partidos)\n",
    "TOTALES=pd.DataFrame(Total_Partidos)\n",
    "TOTALES.index=TOTALES.iloc[:,0]\n",
    "TOTALES=TOTALES.drop(TOTALES.columns[0],axis=1)\n",
    "TOTALES.columns=['Nombre','Votos_2014']\n",
    "#print(TOTALES)\n",
    "TOTALES.to_excel('TOTALES_2014.xlsx',index=True)\n",
    "print(TOTALES)"
   ]
  },
  {
   "cell_type": "markdown",
   "id": "e5ed7451",
   "metadata": {},
   "source": [
    "Votos por Partido 2010"
   ]
  },
  {
   "cell_type": "code",
   "execution_count": 137,
   "id": "8e3049b3",
   "metadata": {},
   "outputs": [
    {
     "name": "stdout",
     "output_type": "stream",
     "text": [
      "⚠️ No se encontraron filas para el partido nan\n",
      "                                                       Nombre  Votos_2010\n",
      "0                                                                        \n",
      "20100061.0                       MOVIMIENTO NACIONAL CIMARRON         104\n",
      "20100011.0  ASOCIACION DE DESPLAZADOS DE LA COSTA PACIFICA...          72\n",
      "20100007.0  ASOCIACION DE AFROCOLOMBIANOS PARA LA VIVIENDA...         204\n",
      "20100047.0  FUNDACION PARA EL DESARROLLO LA SOLIDARIDAD Y ...          34\n",
      "20050002.0  PARTIDO SOCIAL DE UNIDAD NACIONAL  PARTIDO DE ...      145763\n",
      "...                                                       ...         ...\n",
      "20100040.0                       FUNDACION INTENSIDAD FUNDAIN          54\n",
      "20100015.0                              ASOCIACION NUEVA VIDA         144\n",
      "20100031.0  CORPORACION DE LIDERAZGO Y DESARROLLO EMPRESAR...          78\n",
      "20100027.0               CORPORACION AFROCOLOMBIANA MAL COLMX          35\n",
      "20100005.0  ASOCIACION COLECTIVO AFRODESCENDIENTES PRO DER...          22\n",
      "\n",
      "[78 rows x 2 columns]\n"
     ]
    }
   ],
   "source": [
    "partidos2010=Congreso_2010_Cund['codigo_partido'].unique()\n",
    "#Total_Partidos={}\n",
    "Total_Partidos_2010=[]\n",
    "for i in partidos2010:\n",
    "    x=Congreso_2010_Cund[Congreso_2010_Cund['codigo_partido']==i]\n",
    "    if not x.empty:  # solo si encontró filas\n",
    "        Total_Partidos_2010.append([i, x['nombres'].iloc[0], x['votos'].sum()])\n",
    "    else:\n",
    "        print(f\"⚠️ No se encontraron filas para el partido {i}\")\n",
    "#print(Total_Partidos_2010)\n",
    "TOTALES2010=pd.DataFrame(Total_Partidos_2010)\n",
    "TOTALES2010.index=TOTALES2010.iloc[:,0]\n",
    "TOTALES2010=TOTALES2010.drop(TOTALES2010.columns[0],axis=1)\n",
    "TOTALES2010.columns=['Nombre','Votos_2010']\n",
    "#print(TOTALES)\n",
    "TOTALES2010.to_excel('TOTALES_2010.xlsx',index=True)\n",
    "print(TOTALES2010)"
   ]
  },
  {
   "cell_type": "markdown",
   "id": "d20b2acb",
   "metadata": {},
   "source": [
    "Votos por Partido 2006"
   ]
  },
  {
   "cell_type": "code",
   "execution_count": 138,
   "id": "968c6af7",
   "metadata": {},
   "outputs": [
    {
     "name": "stdout",
     "output_type": "stream",
     "text": [
      "⚠️ No se encontraron filas para el partido nan\n",
      "                                                       Nombre  Votos_2006\n",
      "0                                                                        \n",
      "18490002.0                     PARTIDO CONSERVADOR COLOMBIANO      102098\n",
      "18480001.0                         PARTIDO LIBERAL COLOMBIANO       93826\n",
      "19970002.0                     PARTIDO CONVERGENCIA CIUDADANA        3954\n",
      "20030254.0                           MOVIMIENTO COLOMBIA VIVA        2040\n",
      "20050001.0                       POLO DEMOCRATICO ALTERNATIVO       29440\n",
      "19910002.0            MOVIMIENTO ALIANZA SOCIAL INDIGENA  ASI         934\n",
      "20000022.0                 MOVIMIENTO POLITICO UNETE COLOMBIA        2308\n",
      "19980014.0       MOVIMIENTO COMUNAL Y COMUNITARIA DE COLOMBIA        2243\n",
      "19920002.0                                                 C4        1749\n",
      "20100021.0                                  MOVIMIENTO CANOAS          43\n",
      "19980001.0     MOVIMIENTO RECONSTRUCCION DEMOCRATICA NACIONAL         585\n",
      "20060002.0                       PARTIDO COLOMBIA DEMOCRATICA        3966\n",
      "20100059.0  ASOCIACION AFROCOLOMBIANA INTERCAMBIO DE EXPER...         125\n",
      "20000203.0       MOVIMIENTO DE PARTICIPACION COMUNITARIA  MPC        4803\n",
      "20000036.0                                    MOVIMIENTO MIRA       12749\n",
      "20060021.0                                          DESPERTAR          77\n",
      "20050002.0  PARTIDO SOCIAL DE UNIDAD NACIONAL  PARTIDO DE ...       48925\n",
      "20100027.0                           AFROCOLOMBIANA MALCOLM X          52\n",
      "19980002.0                             PARTIDO CAMBIO RADICAL       92871\n",
      "20100065.0                                      RAICES NEGRAS         322\n",
      "19920004.0             MOVIMIENTO CONSERVATISMO INDEPENDIENTE         641\n",
      "19920001.0                    MOVIMIENTO NACIONAL PROGRESISTA        1530\n",
      "20060011.0                            FUNDACION TAMBOR YORUBA          68\n",
      "20060006.0      CORPORACION UNIDOS POR LA CULTURA AFRO  CUCAF         186\n",
      "20100062.0                                        CORPOSINPAC         439\n",
      "19930001.0                                             ADOLFO        1545\n",
      "19980003.0                                     CARLOS ORLANDO        9705\n",
      "19980005.0                                           MAURICIO        5188\n",
      "20100060.0  ASOCIACION NACIONAL DE ESTUDIANTES AFROCOLOMBI...         194\n",
      "20060010.0                                COAGROPACIFICO LTDA          27\n",
      "20060009.0  CENTRO DE EST COMUNIC Y PROMO COMUNITARIA CIMA...          31\n",
      "19910001.0  MOVIMIENTO AUTORIDADES INDIGENAS DE COLOMBIA  ...         364\n",
      "20060003.0                      ALIANZA SOCIAL AFROCOLOMBIANA         246\n",
      "20060005.0                                            ANALDIC         186\n",
      "20100061.0                       MOVIMIENTO NACIONAL CIMARRON          49\n",
      "20060008.0                                        AFROUNINCCA         107\n",
      "20060007.0  ASOCIACION PARA PROMOCION Y DEFENSA DE LOS DER...          99\n",
      "20060017.0            ORGANIZACION DE MUJERES AFROCOLOMBIANAS         103\n",
      "20060013.0           ASOCIACION PARA EL FOMENTO E INTEGRACION         137\n",
      "20100067.0                                           FUNDECON          25\n",
      "20000012.0                                  MOVIMIENTO CINDET          87\n",
      "20060020.0  ASOCIACION NACIONAL PARA EL DESARROLLO Y LA DE...          45\n",
      "20060016.0                                          FUNDECONA          20\n",
      "20060012.0                                             ASOPRA         139\n",
      "20060018.0                  ORGANIZACION CONVIVENCIA PACIFICA          76\n",
      "20060019.0                                               ACIA         128\n",
      "20100040.0                                            FUNDAIN          32\n"
     ]
    }
   ],
   "source": [
    "partidos2006=Congreso_2006_Cund['codigo_partido'].unique()\n",
    "#Total_Partidos={}\n",
    "Total_Partidos_2006=[]\n",
    "for i in partidos2006:\n",
    "    x=Congreso_2006_Cund[Congreso_2006_Cund['codigo_partido']==i]\n",
    "    if not x.empty:  # solo si encontró filas\n",
    "        Total_Partidos_2006.append([i, x['nombres'].iloc[0], x['votos'].sum()])\n",
    "    else:\n",
    "        print(f\"⚠️ No se encontraron filas para el partido {i}\")\n",
    "#print(Total_Partidos_2010)\n",
    "TOTALES2006=pd.DataFrame(Total_Partidos_2006)\n",
    "TOTALES2006.index=TOTALES2006.iloc[:,0]\n",
    "TOTALES2006=TOTALES2006.drop(TOTALES2006.columns[0],axis=1)\n",
    "TOTALES2006.columns=['Nombre','Votos_2006']\n",
    "#print(TOTALES)\n",
    "TOTALES2006.to_excel('TOTALES_2006.xlsx',index=True)\n",
    "print(TOTALES2006)\n"
   ]
  },
  {
   "cell_type": "markdown",
   "id": "9a08572a",
   "metadata": {},
   "source": [
    "Votos por Partido 2002"
   ]
  },
  {
   "cell_type": "code",
   "execution_count": 139,
   "id": "afeb063a",
   "metadata": {},
   "outputs": [
    {
     "name": "stdout",
     "output_type": "stream",
     "text": [
      "⚠️ No se encontraron filas para el partido nan\n",
      "                                     Nombre  Votos_2002\n",
      "0                                                      \n",
      "18480001.0       PARTIDO LIBERAL COLOMBIANO      104955\n",
      "18490002.0   PARTIDO CONSERVADOR COLOMBIANO       47595\n",
      "19610001.0  ALIANZA NACIONAL POPULAR  ANAPO         866\n",
      "19780001.0              MOVIMIENTO NACIONAL        1195\n",
      "19790001.0     MOVIMIENTO NUEVO LIBERALISMO       46402\n",
      "...                                     ...         ...\n",
      "20020143.0                              NaN         144\n",
      "20020146.0                              NaN         389\n",
      "20020147.0                              NaN         399\n",
      "20020148.0                              NaN         274\n",
      "20020149.0                              NaN         207\n",
      "\n",
      "[67 rows x 2 columns]\n"
     ]
    }
   ],
   "source": [
    "partidos2002=Congreso_2002_Cund['codigo_partido'].unique()\n",
    "#Total_Partidos={}\n",
    "Total_Partidos_2002=[]\n",
    "for i in partidos2002:\n",
    "    x=Congreso_2002_Cund[Congreso_2002_Cund['codigo_partido']==i]\n",
    "    if not x.empty:  # solo si encontró filas\n",
    "        Total_Partidos_2002.append([i, x['nombres'].iloc[0], x['votos'].sum()])\n",
    "    else:\n",
    "        print(f\"⚠️ No se encontraron filas para el partido {i}\")\n",
    "#print(Total_Partidos_2010)\n",
    "TOTALES2002=pd.DataFrame(Total_Partidos_2002)\n",
    "TOTALES2002.index=TOTALES2002.iloc[:,0]\n",
    "TOTALES2002=TOTALES2002.drop(TOTALES2002.columns[0],axis=1)\n",
    "TOTALES2002.columns=['Nombre','Votos_2002']\n",
    "#print(TOTALES)\n",
    "TOTALES2002.to_excel('TOTALES_2002.xlsx',index=True)\n",
    "print(TOTALES2002)\n"
   ]
  },
  {
   "cell_type": "markdown",
   "id": "20ccbce4",
   "metadata": {},
   "source": [
    "Votos por Partido 2018\n"
   ]
  },
  {
   "cell_type": "code",
   "execution_count": 140,
   "id": "8a9464f3",
   "metadata": {},
   "outputs": [
    {
     "name": "stdout",
     "output_type": "stream",
     "text": [
      "⚠️ No se encontraron filas para el partido nan\n",
      "                                                       Nombre  Votos_2018\n",
      "0                                                                        \n",
      "18490002.0                     PARTIDO CONSERVADOR COLOMBIANO       77857\n",
      "20180039.0                 KUSUTO MAGENDE COKUMALU DE LURUACO          85\n",
      "20180021.0        CONSEJO COMUNITARIO DE ALEJANDRO DURAN DIAZ         191\n",
      "20090001.0                           PARTIDO OPCION CIUDADANA       23596\n",
      "20180014.0  CC ANCESTRAL DE COMUNIDADES NEGRAS PLAYA RENAC...         104\n",
      "20020028.0   CC GENERAL DEL RIO BAUDO Y SUS AFLUENTES \"ACABA\"          61\n",
      "20030001.0                             PARTIDO CAMBIO RADICAL      141405\n",
      "20140026.0                     FUNDACION ESPERANZA AFROESAFRO         348\n",
      "20090002.0                              PARTIDO ALIANZA VERDE       42807\n",
      "20180025.0                   CONSEJO COMUNITARIO DE LAS BARAS          85\n",
      "20180028.0             CONSEJO COMUNITARIO IMBILPI DEL CARMEN         164\n",
      "20180053.0  ASO AFROC DE ASENTAMIEN ANCESTRAL MUNICIPIO DE...          69\n",
      "20180015.0  CC DE COMUN NEGRAS PALENQUE VDA LAS TRESCIENTA...         229\n",
      "20000036.0                              PARTIDO POLITICO MIRA       32662\n",
      "20130001.0                         PARTIDO CENTRO DEMOCRATICO      124112\n",
      "20180054.0  AGENCIA AFROCOLOMBIANA EMPRESA ASOCIATIVA DE T...         142\n",
      "20180036.0                            CUENCA DEL RIO ISCUANDE          62\n",
      "20180024.0  CONSEJO COMUNITARIO DE LA COMUNIDAD NEGRA DE L...         133\n",
      "20180008.0             COALICION LISTA DE LA DECENCIA (UPASI)       31375\n",
      "20180029.0                                            HERNAN         2490\n",
      "20050001.0               PARTIDO POLO DEMOCRATICO ALTERNATIVO       17614\n",
      "20050002.0  PARTIDO SOCIAL DE UNIDAD NACIONAL  PARTIDO DE ...       86381\n",
      "20180048.0                          FUNDACION AMOR Y PAZ  FAP         117\n",
      "20180032.0              CONSEJO COMUNITARIO MAYOR DE CERTEGUI         636\n",
      "18480001.0                         PARTIDO LIBERAL COLOMBIANO       73333\n",
      "20180037.0  FUND AFROCOLOMBIANA LIBERAL DE DESARROLLO SOCI...          93\n",
      "20180005.0                                      PARTIDO SOMOS       14126\n",
      "20130002.0                                       ARELIS MARIA        2313\n",
      "20100041.0                                                NaN         454\n",
      "20180012.0  ASOC NAL DE CABILDOS Y AUTORIDADES INDIGENAS E...         389\n",
      "20170002.0              MOVIMIENTO TODOS SOMOS COLOMBIA \"TSC\"         419\n",
      "20180016.0  CC DE LA COMUNIDAD NEGRA DE LA CALLE LARGA RIO...         109\n",
      "20140035.0                                   GSC  SI SE PUEDE         252\n",
      "20140018.0                        CORPORACION PODER CIUDADANO          86\n",
      "19910001.0                                   ARGENIDA NORAIMA        1085\n",
      "20180013.0  C C DE LA COMUN NEGRA DE TIERRA BAJA MI TERRIT...          41\n",
      "20140029.0                                       LOS PALENKES          66\n",
      "20180030.0                      CONSEJO COMUNITARIO LOS ANDES         212\n",
      "20140017.0  CC DE LOS CORREGIMIENTOS DE SAN ANTONIO Y EL C...         171\n",
      "20180050.0                       FUNDACION RENACER PARA TODOS          52\n",
      "20180041.0                                          UAIZSACOR         164\n",
      "20180035.0                                       CARLOS DAVID         147\n",
      "20180052.0  FUND AFRODESCENDIENTE PROFESIONAL DE CORDOBA \"...          72\n",
      "20180033.0                  CONSEJO COMUNITARIO RENACER NEGRO          92\n",
      "20180034.0                  CONSEJO COMUNITARIO TABLON SALADO          92\n",
      "20180023.0  CONSEJO COMUNITARIO DE COMUNIDADES NEGRAS SANT...          49\n",
      "20180031.0  CONSEJO COMUNITARIO MA KANKAMANA DE SAN BASILI...          65\n",
      "20180038.0                               FUNDACION TAITA ZIPA         310\n",
      "20180007.0                   AUTORIDAD TRADICIONAL CASIYOUREN          86\n",
      "20180020.0    CONSEJO COMUNITARIO BOCAS DEL ATRATO Y LEONCITO          94\n",
      "20180055.0  ASOC DE AFR SIN ANIMO DE LUCRO DE S CRISTOBAL ...          69\n",
      "20180026.0                                      FRANCIA ELENA         227\n",
      "20180049.0               FUNDACION ETNICA DE COLOMBIAFUNETCOL          31\n",
      "20180022.0  CONSEJO COMUNITARIO DE COMUNIDADES NEGRAS OBATALA          81\n",
      "20180051.0  ASOCIACION COLOMBIA NEGRA HUELLAS DE AFRICANIA...          75\n",
      "20180017.0  CC DE LA COMUNIDAD NEGRA DE LA PLATA BAHIA MALAGA          59\n",
      "20180056.0  ASO CENTRO DE AUTO RECONOCIMIENTO AFROCOLOMBIA...          45\n",
      "20100037.0               FUNDACION DEPORTIVA VIAFARA FUNDEVIA          48\n",
      "20180040.0  ORG SOCIAL DE COMUNIDADES NEGRAS \"NELSON MANDELA\"          66\n"
     ]
    }
   ],
   "source": [
    "partidos2018=Congreso_2018_Cund['codigo_partido'].unique()\n",
    "#Total_Partidos={}\n",
    "Total_Partidos_2018=[]\n",
    "for i in partidos2018:\n",
    "    x=Congreso_2018_Cund[Congreso_2018_Cund['codigo_partido']==i]\n",
    "    if not x.empty:  # solo si encontró filas\n",
    "        Total_Partidos_2018.append([i, x['nombres'].iloc[0], x['votos'].sum()])\n",
    "    else:\n",
    "        print(f\"⚠️ No se encontraron filas para el partido {i}\")\n",
    "#print(Total_Partidos_2010)\n",
    "TOTALES2018=pd.DataFrame(Total_Partidos_2018)\n",
    "TOTALES2018.index=TOTALES2018.iloc[:,0]\n",
    "TOTALES2018=TOTALES2018.drop(TOTALES2018.columns[0],axis=1)\n",
    "TOTALES2018.columns=['Nombre','Votos_2018']\n",
    "#print(TOTALES)\n",
    "TOTALES2018.to_excel('TOTALES_2018.xlsx',index=True)\n",
    "print(TOTALES2018)"
   ]
  },
  {
   "cell_type": "markdown",
   "id": "5d56fc36",
   "metadata": {},
   "source": [
    "Creación DataFrame 2022"
   ]
  },
  {
   "cell_type": "code",
   "execution_count": 150,
   "id": "253d3962",
   "metadata": {},
   "outputs": [],
   "source": [
    "TOTALES2022=pd.DataFrame({'Nombre':['Pacto Historico','PARTIDO CAMBIO RADICAL','PARTIDO SOCIAL DE UNIDAD NACIONAL  PARTIDO DE LA U','PARTIDO ALIANZA VERDE','PARTIDO LIBERAL COLOMBIANO','PARTIDO CONSERVADOR COLOMBIANO','CENTRO DEMOCRATICO MANO FIRME CORAZON GRANDE','MOVIMIENTO MIRA','MOVIMIENTO NUEVO LIBERALISMO','CENTRO ESPERANZA','SALVACION NACIONAL'],'Votos_2022':[175082,120590,118956,83749,83615,79733,66455,32982,26158,21656,4520]},index=[1786007,20030001,20050002,20090002,18480001,18490002,20130001,20000036,19790001,1785005,1984006])"
   ]
  },
  {
   "cell_type": "markdown",
   "id": "e7a6a6c9",
   "metadata": {},
   "source": [
    "Construcción Proporcion de Votos por Partido"
   ]
  },
  {
   "cell_type": "code",
   "execution_count": null,
   "id": "79a2a06f",
   "metadata": {},
   "outputs": [],
   "source": [
    "valores = pd.concat([TOTALES2002[[\"Votos_2002\"]], TOTALES2006[[\"Votos_2006\"]], TOTALES2010[[\"Votos_2010\"]],TOTALES[['Votos_2014']],TOTALES2018[['Votos_2018']],TOTALES2022[['Votos_2022']]], axis=1).fillna(0)\n",
    "divisores={\"Votos_2002\":496212,\"Votos_2006\":445061,\"Votos_2010\":490084,\"Votos_2014\":610827,\"Votos_2018\":665268,\"Votos_2022\":931928}\n",
    "valores_div = valores.div(divisores, axis=1)\n",
    "nombres = pd.concat([TOTALES2002[\"Nombre\"], TOTALES2006[\"Nombre\"], TOTALES2010[\"Nombre\"],TOTALES['Nombre'],TOTALES2018['Nombre'],TOTALES2022['Nombre']], axis=1).bfill(axis=1).iloc[:,0]\n",
    "Proporcion_votos = pd.concat([nombres.rename(\"Nombre\"), valores_div], axis=1)\n",
    "[a,b]=[Proporcion_votos.at[19980002,\"Votos_2002\"],Proporcion_votos.at[19980002,\"Votos_2006\"]]\n",
    "[Proporcion_votos.at[20030001,\"Votos_2002\"],Proporcion_votos.at[20030001,\"Votos_2006\"]]=[a,b]\n",
    "Proporcion_votos = Proporcion_votos.drop(19980002, axis=0)\n",
    "#Proporcion_votos.to_excel('Proporcion_votos.xlsx',index=True)"
   ]
  },
  {
   "cell_type": "markdown",
   "id": "2e9a4a47",
   "metadata": {},
   "source": [
    "Proporciones Estimadas para el 2026"
   ]
  },
  {
   "cell_type": "code",
   "execution_count": 190,
   "id": "a4637c3c",
   "metadata": {},
   "outputs": [
    {
     "name": "stdout",
     "output_type": "stream",
     "text": [
      "                                     Nombre  Votos_2002  Votos_2006  \\\n",
      "18480001.0       PARTIDO LIBERAL COLOMBIANO    0.211512    0.210816   \n",
      "18490002.0   PARTIDO CONSERVADOR COLOMBIANO    0.095917    0.229402   \n",
      "19610001.0  ALIANZA NACIONAL POPULAR  ANAPO    0.001745    0.000000   \n",
      "19780001.0              MOVIMIENTO NACIONAL    0.002408    0.000000   \n",
      "19790001.0     MOVIMIENTO NUEVO LIBERALISMO    0.093512    0.000000   \n",
      "\n",
      "            Votos_2010  Votos_2014  Votos_2018  Votos_2022     p_hat  \\\n",
      "18480001.0    0.130569    0.132032    0.110231    0.089723  0.053790   \n",
      "18490002.0    0.215567    0.162722    0.117031    0.085557  0.056492   \n",
      "19610001.0    0.000000    0.000000    0.000000    0.000000  0.001153   \n",
      "19780001.0    0.000000    0.000000    0.000000    0.000000  0.001497   \n",
      "19790001.0    0.000000    0.000000    0.000000    0.028069  0.015165   \n",
      "\n",
      "                   V_hat       p_t           V_t  \n",
      "18480001.0  54885.843894  0.093093  94988.798409  \n",
      "18490002.0  57642.950914  0.097791  99782.701945  \n",
      "19610001.0   1176.901134  0.001571   1602.691630  \n",
      "19780001.0   1527.081916  0.002167   2211.566395  \n",
      "19790001.0  15473.807425  0.025933  26461.352942  \n"
     ]
    }
   ],
   "source": [
    "import numpy as np\n",
    "\n",
    "# ==== CONFIGURACIÓN ====\n",
    "lambda_decay = 0.80   # decaimiento temporal (0.7–0.9 recomendado)\n",
    "alpha_prior  = 0.10   # peso del prior uniforme\n",
    "\n",
    "# ==== Seleccionar columnas de votaciones ====\n",
    "cols = [c for c in Proporcion_votos.columns if c.startswith(\"Votos_\")]\n",
    "\n",
    "# Extraer los años como enteros\n",
    "años = [int(c.split(\"_\")[1]) for c in cols]\n",
    "t_max = max(años)\n",
    "\n",
    "# ==== Pesos de decaimiento por año ====\n",
    "#pesos = {a: lambda_decay**(t_max - a) for a in años}\n",
    "pesos = np.array([lambda_decay**(t_max - a) for a in años])\n",
    "\n",
    "# ==== Calcular promedio ponderado por fila ====\n",
    "df_nan = Proporcion_votos[cols].replace(0, np.nan)\n",
    "#num = sum(Proporcion_votos[f\"Votos_{a}\"] * pesos[a] for a in años)\n",
    "#den = sum(pesos[a] for a in años)\n",
    "num = np.nansum(df_nan.values * pesos, axis=1)\n",
    "den = np.nansum((~np.isnan(df_nan.values)) * pesos, axis=1)\n",
    "p_hist = num / den   # proporción histórica ponderada\n",
    "\n",
    "# ==== Prior uniforme (piso para todos los partidos) ====\n",
    "J = Proporcion_votos.shape[0]\n",
    "prior = np.repeat(1/J, J)\n",
    "\n",
    "# ==== Mezcla convexa ====\n",
    "p_mix = (1 - alpha_prior) * p_hist + alpha_prior * prior\n",
    "p=(1 - alpha_prior) * p_hist\n",
    "# ==== Normalizar para que sumen 1 ====\n",
    "p_hat = p_mix / p_mix.sum()\n",
    "p_t=p/p.sum()\n",
    "\n",
    "# ==== Agregar columna al DataFrame ====\n",
    "Proporcion_votos[\"p_hat\"] = p_hat\n",
    "Proporcion_votos[\"p_t\"]=p\n",
    "Proporcion_votos[\"V_t\"]=p*1020368 \n",
    "colom=list(Proporcion_votos.columns)\n",
    "colom[8],colom[9]=colom[9],colom[8]\n",
    "Proporcion_votos=Proporcion_votos[colom]\n",
    "print(Proporcion_votos.head())\n",
    "Proporcion_votos.to_excel('Proporcion_votos.xlsx',index=True)"
   ]
  },
  {
   "cell_type": "markdown",
   "id": "c7e8890e",
   "metadata": {},
   "source": [
    "Resultados Esperados: "
   ]
  },
  {
   "cell_type": "code",
   "execution_count": 179,
   "id": "05951026",
   "metadata": {},
   "outputs": [
    {
     "name": "stdout",
     "output_type": "stream",
     "text": [
      "Cifra repartidora estimada: 33160.17932464425\n",
      "Curules asignados: {'PARTIDO SOCIAL DE UNIDAD NACIONAL  PARTIDO DE LA U': 2, 'PARTIDO CAMBIO RADICAL': 2, 'Pacto Historico': 3}\n"
     ]
    }
   ],
   "source": [
    "import numpy as np\n",
    "\n",
    "# ==== CONFIGURACIÓN ====\n",
    "S = 7                        # número de curules en la circunscripción (ej. Cundinamarca)\n",
    "V_validos_hat = 1020368      # proyección de votos válidos (ejemplo)\n",
    "\n",
    "# 1. votos proyectados\n",
    "Proporcion_votos[\"V_hat\"] = Proporcion_votos[\"p_hat\"] * V_validos_hat\n",
    "\n",
    "# 2. umbral\n",
    "Q_hat = V_validos_hat / S\n",
    "U_hat = 0.5 * Q_hat   # en Senado sería 0.03 * V_validos_hat\n",
    "filtrados = Proporcion_votos[Proporcion_votos[\"V_hat\"] >= U_hat]\n",
    "\n",
    "# 3. generar cocientes D’Hondt\n",
    "cocientes = []\n",
    "for idx, row in filtrados.iterrows():\n",
    "    votos = row[\"V_hat\"]\n",
    "    for k in range(1, S+1):\n",
    "        cocientes.append((row[\"Nombre\"], votos/k))\n",
    "\n",
    "# 4. ordenar cocientes y encontrar cifra repartidora\n",
    "cocientes_ordenados = sorted(cocientes, key=lambda x: x[1], reverse=True)\n",
    "cifra_repartidora = cocientes_ordenados[S-1][1]  # el S-ésimo cociente\n",
    "\n",
    "# 5. asignar curules\n",
    "curules = {}\n",
    "for partido, votos in filtrados.set_index(\"Nombre\")[\"V_hat\"].items():\n",
    "    curules[partido] = int(votos // cifra_repartidora)\n",
    "\n",
    "print(\"Cifra repartidora estimada:\", cifra_repartidora)\n",
    "print(\"Curules asignados:\", curules)"
   ]
  },
  {
   "cell_type": "code",
   "execution_count": 180,
   "id": "82f7ac08",
   "metadata": {},
   "outputs": [
    {
     "name": "stdout",
     "output_type": "stream",
     "text": [
      "Index([20030001.0], dtype='float64')\n"
     ]
    }
   ],
   "source": [
    "indices = Proporcion_votos.index[Proporcion_votos[\"Nombre\"].isin([\"MOVIMIENTO CAMBIO RADICAL\",\"PARTIDO CAMBIO RADICAL\"])]\n",
    "print(indices)"
   ]
  }
 ],
 "metadata": {
  "kernelspec": {
   "display_name": ".envcongreso",
   "language": "python",
   "name": "python3"
  },
  "language_info": {
   "codemirror_mode": {
    "name": "ipython",
    "version": 3
   },
   "file_extension": ".py",
   "mimetype": "text/x-python",
   "name": "python",
   "nbconvert_exporter": "python",
   "pygments_lexer": "ipython3",
   "version": "3.12.8"
  }
 },
 "nbformat": 4,
 "nbformat_minor": 5
}
